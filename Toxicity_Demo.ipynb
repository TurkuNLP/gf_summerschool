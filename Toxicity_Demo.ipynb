{
  "nbformat": 4,
  "nbformat_minor": 0,
  "metadata": {
    "colab": {
      "provenance": [],
      "include_colab_link": true
    },
    "kernelspec": {
      "name": "python3",
      "display_name": "Python 3"
    },
    "language_info": {
      "name": "python"
    }
  },
  "cells": [
    {
      "cell_type": "markdown",
      "metadata": {
        "id": "view-in-github",
        "colab_type": "text"
      },
      "source": [
        "<a href=\"https://colab.research.google.com/github/TurkuNLP/gf_summerschool/blob/main/Toxicity_Demo.ipynb\" target=\"_parent\"><img src=\"https://colab.research.google.com/assets/colab-badge.svg\" alt=\"Open In Colab\"/></a>"
      ]
    },
    {
      "cell_type": "markdown",
      "source": [
        "### Demo for the GF Summer School\n",
        "\n",
        "The demo shows how toxicity detection works using Finnish model trained for multi-label text classification."
      ],
      "metadata": {
        "id": "rfYaHl3i16VQ"
      }
    },
    {
      "cell_type": "code",
      "execution_count": null,
      "metadata": {
        "id": "kkl0DWNQ0_wu"
      },
      "outputs": [],
      "source": [
        "!pip3 install transformers datasets --quiet"
      ]
    },
    {
      "cell_type": "code",
      "source": [
        "import transformers\n",
        "import datasets\n",
        "from pprint import pprint"
      ],
      "metadata": {
        "id": "6wK6lRPB2vG2"
      },
      "execution_count": null,
      "outputs": []
    },
    {
      "cell_type": "code",
      "source": [
        "model = transformers.AutoModelForSequenceClassification.from_pretrained(\"TurkuNLP/bert-large-finnish-cased-toxicity\")\n",
        "tokenizer = transformers.AutoTokenizer.from_pretrained(\"TurkuNLP/bert-large-finnish-cased-v1\")"
      ],
      "metadata": {
        "id": "oVCm9iOL1TNa"
      },
      "execution_count": null,
      "outputs": []
    },
    {
      "cell_type": "code",
      "source": [
        "test_pipe = transformers.pipeline(task=\"text-classification\", model=model, tokenizer=tokenizer, function_to_apply=\"sigmoid\", top_k=None) # return_all_scores=True is deprecated"
      ],
      "metadata": {
        "id": "RdGFjguC1NbG"
      },
      "execution_count": null,
      "outputs": []
    },
    {
      "cell_type": "code",
      "source": [
        "# to test what kind of predictions the model will make change the texts in the test variable below\n",
        "# note that if the probability has too many digits it will default to scientific notation\n",
        "\n",
        "test = [\"Oot ihan nuija.\", \"Senkin kakkapää\", \"Tämän pitäisi olla ihan puhdasta tekstiä.\"]\n",
        "\n",
        "results = test_pipe(test)\n",
        "\n",
        "for zipped in zip(test, results):\n",
        "  pprint(zipped)"
      ],
      "metadata": {
        "id": "gfUSgfDA2a6Q"
      },
      "execution_count": null,
      "outputs": []
    },
    {
      "cell_type": "code",
      "source": [],
      "metadata": {
        "id": "-NwOmaAyV4QM"
      },
      "execution_count": null,
      "outputs": []
    }
  ]
}