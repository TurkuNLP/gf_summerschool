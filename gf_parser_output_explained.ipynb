{
  "cells": [
    {
      "cell_type": "markdown",
      "metadata": {
        "id": "view-in-github",
        "colab_type": "text"
      },
      "source": [
        "<a href=\"https://colab.research.google.com/github/TurkuNLP/gf_summerschool/blob/main/gf_parser_output_explained.ipynb\" target=\"_parent\"><img src=\"https://colab.research.google.com/assets/colab-badge.svg\" alt=\"Open In Colab\"/></a>"
      ]
    },
    {
      "cell_type": "markdown",
      "metadata": {
        "id": "LYNj9fDXcMku"
      },
      "source": [
        "## CoNLL-U file format\n",
        "\n",
        "* Terminology reminder: format != schema\n",
        "   * File format tells how the file is structured (syntax), while annotation schema describes the meaning of the annotation\n",
        "\n",
        "\n",
        "* CoNLL-U format is based on lines and columns\n",
        "\n",
        "* sentence/document metadata: lines starting with \"#\"\n",
        "* empty line: sentence boundary\n",
        "* each numbered line is a separate token, columns are different annotations for the token\n",
        "* Underscore is used for empty fields (no annotation required or missing annotation)\n",
        "* columns: ID, FORM, LEMMA, UPOS, XPOS, FEAT, HEAD, DEPREL, DEPS, MISC\n",
        "  * ID: word index\n",
        "  * FORM: original word form as appeared in the text\n",
        "  * LEMMA: base form\n",
        "  * UPOS: universal part-of-speech tag (17 values)\n",
        "  * XPOS: language-specific part-of-speech tag (different in each corpus)\n",
        "  * FEAT: list of morphological features\n",
        "  * HEAD: governor in the dependency tree (id), or zero (root token)\n",
        "  * DEPREL: dependency relation type\n",
        "  * DEPS: Enhanced dependency graph\n",
        "  * MISC: Any other annotation, especially original spacing"
      ]
    },
    {
      "cell_type": "markdown",
      "metadata": {
        "id": "DCjcgUlFcMku"
      },
      "source": [
        "```\n",
        "# sent_id = wn096.9\n",
        "# text = Lisäksi katkos häiritsi merkittävästi Egyptin ja Intian verkkoliikennettä.\n",
        "1  Lisäksi           lisäksi          ADV    Adv    _                       3 advmod    _    _\n",
        "2  katkos            katkos           NOUN   N      Case=Nom|Number=Sing    3 nsubj     _    _\n",
        "3  häiritsi          häiritä          VERB   V      Mood=Ind|Number=Sing... 0 root      _    _\n",
        "4  merkittävästi     merkittävästi    ADV    Adv    Derivation=Sti          3 advmod    _    _\n",
        "5  Egyptin           Egypti           PROPN  N      Case=Gen|Number=Sing    8 nmod:poss _    _\n",
        "6  ja                ja               CCONJ  C      _                       7 cc        _    _\n",
        "7  Intian            Intia            PROPN  N      Case=Gen|Number=Sing    5 conj      _    _\n",
        "8  verkkoliikennettä verkko#liikenne  NOUN   N      Case=Par|Number=Sing    3 obj       _    SpaceAfter=No\n",
        "9  .                 .                PUNCT  Punct  _                       3 punct     _    _\n",
        "\n",
        "# sent_id = b112.2\n",
        "# text = Sain sähköpostia.\n",
        "1  Sain              saada            VERB   V      Mood=Ind|Number=Sing... 0 root      _    _\n",
        "2  sähköpostia       sähkö#posti      NOUN   N      Case=Par|Number=Sing    1 obj       _    SpaceAfter=No\n",
        "3  .                 .                PUNCT  Punct  _                       1 punct     _    _\n",
        "\n",
        "```"
      ]
    },
    {
      "cell_type": "markdown",
      "metadata": {
        "id": "kAqQO_CqcMkv"
      },
      "source": [
        "## Quality of the parser output\n",
        "\n",
        "* Machine learned parser will ALWAYS give an output, if it does not know the word, it will guess based on the word itself and the surrounding sentence.\n",
        "\n",
        "* Quality of the predictions can be measured if correct analyses are known\n",
        "\n",
        "* Evaluation results for the Finnish model trained on UD_Finnish-TDT training set, evaluated on UD_Finnish-TDT test set:\n",
        "\n",
        "\n",
        "\n",
        "```\n",
        "Metric     | Precision |    Recall |  F1 Score | AligndAcc\n",
        "-----------+-----------+-----------+-----------+-----------\n",
        "Tokens     |     99.72 |     99.66 |     99.69 |\n",
        "Sentences  |     88.18 |     84.89 |     86.50 |\n",
        "Words      |     99.72 |     99.64 |     99.68 |\n",
        "UPOS       |     97.84 |     97.77 |     97.80 |     98.12\n",
        "XPOS       |      0.00 |      0.00 |      0.00 |      0.00\n",
        "UFeats     |     96.46 |     96.39 |     96.42 |     96.73\n",
        "AllTags    |      0.00 |      0.00 |      0.00 |      0.00\n",
        "Lemmas     |     96.17 |     96.10 |     96.13 |     96.44\n",
        "UAS        |     92.93 |     92.87 |     92.90 |     93.20\n",
        "LAS        |     91.27 |     91.21 |     91.24 |     91.53\n",
        "CLAS       |     90.64 |     90.45 |     90.55 |     90.75\n",
        "MLAS       |     85.63 |     85.44 |     85.53 |     85.73\n",
        "BLEX       |     86.51 |     86.32 |     86.42 |     86.61\n",
        "```\n",
        "\n",
        "How to read the table:\n",
        "\n",
        "* *How often the parser predicts the universal part-of-speech tag correctly?* – F1 for UPOS is 97.80, so ~98 tokens out of 100 tokens are correctly predicted.\n",
        "* *How often the parser predicts the syntactic tree correctly?* – LAS is 91.24, so ~91 tokens out of 100 tokens have correctly predicted parent token (HEAD) and relation type (DEPREL).\n",
        "\n",
        "\n",
        "\n",
        "What affects the prediction quality?\n",
        "\n",
        "* In-domain vs. out-of-domain data\n",
        "* Common vs. rare words\n",
        "* Errors often cluster"
      ]
    },
    {
      "cell_type": "markdown",
      "metadata": {
        "id": "nDfIZSCZcMkw"
      },
      "source": [
        "## How to read CoNLL-U in python?"
      ]
    },
    {
      "cell_type": "code",
      "execution_count": null,
      "metadata": {
        "colab": {
          "base_uri": "https://localhost:8080/"
        },
        "id": "g0971ZoXcMkx",
        "outputId": "869f6029-0e77-44b0-bddf-65217c1d3759"
      },
      "outputs": [
        {
          "output_type": "stream",
          "name": "stdout",
          "text": [
            "Jäällä rullailu avaa aina hauskoja ja erikoisia näkökulmia kaupunkiin .\n",
            "Vähän samanlainen tunne kuin silloin , kun ystävämme vei meidät kerran ylös tuomiokirkon torniin .\n"
          ]
        }
      ],
      "source": [
        "conllu_data = \"\"\"\n",
        "# sent_id = b101.2\n",
        "# text = Jäällä kävely avaa aina hauskoja ja erikoisia näkökulmia kaupunkiin.\n",
        "1\tJäällä\tjää\tNOUN\tN\tCase=Ade|Number=Sing\t2\tnmod\t2:nmod\t_\n",
        "2\tkävely\tkävely\tNOUN\tN\tCase=Nom|Derivation=U|Number=Sing\t3\tnsubj\t3:nsubj\t_\n",
        "3\tavaa\tavata\tVERB\tV\tMood=Ind|Number=Sing|Person=3|Tense=Pres|VerbForm=Fin|Voice=Act\t0\troot\t0:root\t_\n",
        "4\taina\taina\tADV\tAdv\t_\t3\tadvmod\t3:advmod\t_\n",
        "5\thauskoja\thauska\tADJ\tA\tCase=Par|Degree=Pos|Number=Plur\t8\tamod\t8:amod\t_\n",
        "6\tja\tja\tCCONJ\tC\t_\t7\tcc\t7:cc\t_\n",
        "7\terikoisia\terikoinen\tADJ\tA\tCase=Par|Degree=Pos|Derivation=Inen|Number=Plur\t5\tconj\t5:conj|8:amod\t_\n",
        "8\tnäkökulmia\tnäkö#kulma\tNOUN\tN\tCase=Par|Number=Plur\t3\tobj\t3:obj\t_\n",
        "9\tkaupunkiin\tkaupunki\tNOUN\tN\tCase=Ill|Number=Sing\t8\tnmod\t8:nmod\tSpaceAfter=No\n",
        "10\t.\t.\tPUNCT\tPunct\t_\t3\tpunct\t3:punct\t_\n",
        "\n",
        "# sent_id = b101.3\n",
        "# text = Vähän samanlainen tunne kuin silloin, kun ystävämme vei meidät kerran ylöstuomiokirkon torniin.\n",
        "1\tVähän\tvähän\tADV\tAdv\t_\t2\tadvmod\t2:advmod\t_\n",
        "2\tsamanlainen\tsamanlainen\tADJ\tA\tCase=Nom|Degree=Pos|Derivation=Lainen|Number=Sing\t3\tamod\t3:amod\t_\n",
        "3\ttunne\ttunne\tNOUN\tN\tCase=Nom|Number=Sing\t0\troot\t0:root\t_\n",
        "4\tkuin\tkuin\tSCONJ\tC\t_\t5\tmark\t5:mark\t_\n",
        "5\tsilloin\tsilloin\tADV\tAdv\t_\t2\tadvcl\t2:advcl\tSpaceAfter=No\n",
        "6\t,\t,\tPUNCT\tPunct\t_\t9\tpunct\t9:punct\t_\n",
        "7\tkun\tkun\tSCONJ\tC\t_\t9\tmark\t9:mark\t_\n",
        "8\tystävämme\tystävä\tNOUN\tN\tCase=Nom|Number=Sing|Number[psor]=Plur|Person[psor]=1\t9\tnsubj\t9:nsubj\t_\n",
        "9\tvei\tviedä\tVERB\tV\tMood=Ind|Number=Sing|Person=3|Tense=Past|VerbForm=Fin|Voice=Act\t5\tadvcl\t5:advcl\t_\n",
        "10\tmeidät\tminä\tPRON\tPron\tCase=Acc|Number=Plur|Person=1|PronType=Prs\t9\tobj\t9:obj\t_\n",
        "11\tkerran\tkerran\tADV\tAdv\t_\t9\tadvmod\t9:advmod\t_\n",
        "12\tylös\tylös\tADV\tAdv\t_\t14\tadvmod\t14:advmod\tSpaceAfter=No\n",
        "13\ttuomiokirkon\ttuomio#kirkko\tNOUN\tN\tCase=Gen|Number=Sing\t14\tnmod:poss\t14:nmod:poss\t_\n",
        "14\ttorniin\ttorni\tNOUN\tN\tCase=Ill|Number=Sing\t9\tobl\t9:obl\tSpaceAfter=No\n",
        "15\t.\t.\tPUNCT\tPunct\t_\t3\tpunct\t3:punct\t_\n",
        "\n",
        "\"\"\"\n",
        "\n",
        "ID,FORM,LEMMA,UPOS,XPOS,FEAT,HEAD,DEPREL,DEPS,MISC=range(10)\n",
        "\n",
        "def read_conllu(f):\n",
        "    # f is open file object or list of conllu lines\n",
        "    sent=[]\n",
        "    comment=[]\n",
        "    for line in f:\n",
        "        line=line.strip()\n",
        "        if not line: # new sentence\n",
        "            if sent:\n",
        "                yield comment,sent\n",
        "            comment=[]\n",
        "            sent=[]\n",
        "        elif line.startswith(\"#\"):\n",
        "            comment.append(line)\n",
        "        else: #normal line\n",
        "            sent.append(line.split(\"\\t\"))\n",
        "    else:\n",
        "        if sent:\n",
        "            yield comment, sent\n",
        "\n",
        "for comm, sent in read_conllu(conllu_data.split(\"\\n\")):\n",
        "    print(\" \".join(token[FORM] for token in sent))"
      ]
    },
    {
      "cell_type": "code",
      "execution_count": null,
      "metadata": {
        "id": "9FRu24o7cMkz"
      },
      "outputs": [],
      "source": []
    }
  ],
  "metadata": {
    "kernelspec": {
      "display_name": "Python 3",
      "language": "python",
      "name": "python3"
    },
    "language_info": {
      "codemirror_mode": {
        "name": "ipython",
        "version": 3
      },
      "file_extension": ".py",
      "mimetype": "text/x-python",
      "name": "python",
      "nbconvert_exporter": "python",
      "pygments_lexer": "ipython3",
      "version": "3.8.10"
    },
    "colab": {
      "provenance": [],
      "include_colab_link": true
    }
  },
  "nbformat": 4,
  "nbformat_minor": 0
}