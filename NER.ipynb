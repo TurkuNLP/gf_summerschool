{
  "nbformat": 4,
  "nbformat_minor": 0,
  "metadata": {
    "colab": {
      "provenance": [],
      "authorship_tag": "ABX9TyM8Vu/gLD8GjRG1Eia3GRQN",
      "include_colab_link": true
    },
    "kernelspec": {
      "name": "python3",
      "display_name": "Python 3"
    },
    "language_info": {
      "name": "python"
    }
  },
  "cells": [
    {
      "cell_type": "markdown",
      "metadata": {
        "id": "view-in-github",
        "colab_type": "text"
      },
      "source": [
        "<a href=\"https://colab.research.google.com/github/TurkuNLP/gf_summerschool/blob/main/NER.ipynb\" target=\"_parent\"><img src=\"https://colab.research.google.com/assets/colab-badge.svg\" alt=\"Open In Colab\"/></a>"
      ]
    },
    {
      "cell_type": "code",
      "execution_count": null,
      "metadata": {
        "id": "bGbPAW5QGi03"
      },
      "outputs": [],
      "source": [
        "! wget https://a3s.fi/tku_ner/tku_ner.tar.gz"
      ]
    },
    {
      "cell_type": "code",
      "source": [
        "! tar -xf tku_ner.tar.gz"
      ],
      "metadata": {
        "id": "R99bSOL6HFvz"
      },
      "execution_count": 3,
      "outputs": []
    },
    {
      "cell_type": "code",
      "source": [
        "! pip install transformers"
      ],
      "metadata": {
        "id": "9kuHEwg-HVKy"
      },
      "execution_count": null,
      "outputs": []
    },
    {
      "cell_type": "code",
      "source": [
        "from transformers import BertForTokenClassification,AutoTokenizer, pipeline\n",
        "mname = 'tku_ner'\n",
        "model = BertForTokenClassification.from_pretrained(mname)\n",
        "tokenizer = AutoTokenizer.from_pretrained(mname,use_fast=True),\n",
        "pipe = pipeline(task='ner', model=model, tokenizer=tokenizer[0],aggregation_strategy = 'average')\n",
        "sentence = \"Tällä voit testata Turun yliopistossa tehtyä ohjelmaa, jonka Sampo ja Jouni ovat kehittäneet.\"\n",
        "tokens = pipe(sentence)\n",
        "tokens"
      ],
      "metadata": {
        "colab": {
          "base_uri": "https://localhost:8080/"
        },
        "id": "-DOA7hssGwsf",
        "outputId": "6daa6d19-5db4-4ca7-9af3-490568db90d7"
      },
      "execution_count": 9,
      "outputs": [
        {
          "output_type": "execute_result",
          "data": {
            "text/plain": [
              "[{'entity_group': 'ORG',\n",
              "  'score': 0.99985313,\n",
              "  'word': 'Turun yliopistossa',\n",
              "  'start': 19,\n",
              "  'end': 37},\n",
              " {'entity_group': 'PERSON',\n",
              "  'score': 0.99989855,\n",
              "  'word': 'Sampo',\n",
              "  'start': 61,\n",
              "  'end': 66},\n",
              " {'entity_group': 'PERSON',\n",
              "  'score': 0.99978083,\n",
              "  'word': 'Jouni',\n",
              "  'start': 70,\n",
              "  'end': 75}]"
            ]
          },
          "metadata": {},
          "execution_count": 9
        }
      ]
    },
    {
      "cell_type": "code",
      "source": [],
      "metadata": {
        "id": "N5wBMtEqHS07"
      },
      "execution_count": null,
      "outputs": []
    }
  ]
}